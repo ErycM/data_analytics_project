{
 "cells": [
  {
   "cell_type": "code",
   "execution_count": 2,
   "id": "ce923052",
   "metadata": {},
   "outputs": [],
   "source": [
    "import numpy as np\n",
    "import pandas as pd\n",
    "from google.cloud import bigquery"
   ]
  },
  {
   "cell_type": "code",
   "execution_count": 3,
   "id": "4c3a48ba",
   "metadata": {},
   "outputs": [],
   "source": [
    "import os\n",
    "os.environ[\"GOOGLE_APPLICATION_CREDENTIALS\"]= \"C:/Users/erycm/Documents/teste_tecnico_indicium/data/indicium-349201-330650f022bd.json\"\n",
    "\n",
    "client = bigquery.Client()\n",
    "table_dataset = 'indicium-349201.Northwind'"
   ]
  },
  {
   "cell_type": "code",
   "execution_count": 4,
   "id": "e7461c68",
   "metadata": {},
   "outputs": [],
   "source": [
    "suppliers = pd.read_csv('data/suppliers.csv', sep=\";\")\n",
    "employees = pd.read_csv('data/employees.csv', sep=\";\")\n",
    "customers = pd.read_csv('data/customers.csv', sep=\";\")\n",
    "products = pd.read_csv('data/products.csv', sep=\";\")\n",
    "shippers = pd.read_csv('data/shippers.csv', sep=\";\")\n",
    "categories = pd.read_csv('data/categories.csv', sep=\";\")\n",
    "\n",
    "us_states = pd.read_csv('data/us_states.csv', sep=\";\")\n",
    "region = pd.read_csv('data/region.csv', sep=\";\")\n",
    "territories = pd.read_csv('data/territories.csv', sep=\";\")\n",
    "employee_territories = pd.read_csv('data/employee_territories.csv', sep=\";\")\n",
    "\n",
    "\n",
    "orders = pd.read_csv('data/orders.csv', sep=\";\")\n",
    "order_details = pd.read_csv('data/order_details.csv', sep=\";\")\n",
    "\n",
    "# customer_demo = pd.read_csv('data/customer_customer_demo.csv', sep=\";\") (empty)\n",
    "# customer_demographics = pd.read_csv('data/customer_demographics.csv', sep=\";\") (empty)"
   ]
  },
  {
   "cell_type": "markdown",
   "id": "07e408cd",
   "metadata": {},
   "source": [
    "# Exploração dos dados e criação do dataset"
   ]
  },
  {
   "cell_type": "markdown",
   "id": "c6f0be90",
   "metadata": {},
   "source": [
    "## Suppliers"
   ]
  },
  {
   "cell_type": "code",
   "execution_count": 4,
   "id": "24a1991b",
   "metadata": {},
   "outputs": [],
   "source": [
    "suppliers_table = table_dataset+'.'+'suppliers'"
   ]
  },
  {
   "cell_type": "code",
   "execution_count": 5,
   "id": "74d9ff6a",
   "metadata": {},
   "outputs": [
    {
     "data": {
      "text/html": [
       "<div>\n",
       "<style scoped>\n",
       "    .dataframe tbody tr th:only-of-type {\n",
       "        vertical-align: middle;\n",
       "    }\n",
       "\n",
       "    .dataframe tbody tr th {\n",
       "        vertical-align: top;\n",
       "    }\n",
       "\n",
       "    .dataframe thead th {\n",
       "        text-align: right;\n",
       "    }\n",
       "</style>\n",
       "<table border=\"1\" class=\"dataframe\">\n",
       "  <thead>\n",
       "    <tr style=\"text-align: right;\">\n",
       "      <th></th>\n",
       "      <th>supplier_id</th>\n",
       "      <th>company_name</th>\n",
       "      <th>contact_name</th>\n",
       "      <th>contact_title</th>\n",
       "      <th>address</th>\n",
       "      <th>city</th>\n",
       "      <th>region</th>\n",
       "      <th>postal_code</th>\n",
       "      <th>country</th>\n",
       "      <th>phone</th>\n",
       "      <th>fax</th>\n",
       "      <th>homepage</th>\n",
       "    </tr>\n",
       "  </thead>\n",
       "  <tbody>\n",
       "    <tr>\n",
       "      <th>0</th>\n",
       "      <td>1</td>\n",
       "      <td>Exotic Liquids</td>\n",
       "      <td>Charlotte Cooper</td>\n",
       "      <td>Purchasing Manager</td>\n",
       "      <td>49 Gilbert St.</td>\n",
       "      <td>London</td>\n",
       "      <td>NaN</td>\n",
       "      <td>EC1 4SD</td>\n",
       "      <td>UK</td>\n",
       "      <td>(171) 555-2222</td>\n",
       "      <td>NaN</td>\n",
       "      <td>NaN</td>\n",
       "    </tr>\n",
       "  </tbody>\n",
       "</table>\n",
       "</div>"
      ],
      "text/plain": [
       "   supplier_id    company_name      contact_name       contact_title  \\\n",
       "0            1  Exotic Liquids  Charlotte Cooper  Purchasing Manager   \n",
       "\n",
       "          address    city region postal_code country           phone  fax  \\\n",
       "0  49 Gilbert St.  London    NaN     EC1 4SD      UK  (171) 555-2222  NaN   \n",
       "\n",
       "  homepage  \n",
       "0      NaN  "
      ]
     },
     "execution_count": 5,
     "metadata": {},
     "output_type": "execute_result"
    }
   ],
   "source": [
    "suppliers.head(1)"
   ]
  },
  {
   "cell_type": "code",
   "execution_count": 6,
   "id": "66416de0",
   "metadata": {},
   "outputs": [
    {
     "name": "stdout",
     "output_type": "stream",
     "text": [
      "Created table indicium-349201.Northwind.suppliers\n"
     ]
    },
    {
     "data": {
      "text/plain": [
       "LoadJob<project=indicium-349201, location=US, id=08cbccf0-4759-44bd-abe9-94975f64c6e8>"
      ]
     },
     "execution_count": 6,
     "metadata": {},
     "output_type": "execute_result"
    }
   ],
   "source": [
    "schema = [\n",
    "    bigquery.SchemaField(\"supplier_id\", \"INTEGER\", mode=\"REQUIRED\"),\n",
    "    bigquery.SchemaField(\"company_name\", \"STRING\"),\n",
    "    bigquery.SchemaField(\"contact_name\", \"STRING\"),\n",
    "    bigquery.SchemaField(\"contact_title\", \"STRING\"),\n",
    "    bigquery.SchemaField(\"address\", \"STRING\"),\n",
    "    bigquery.SchemaField(\"city\", \"STRING\"),\n",
    "    bigquery.SchemaField(\"region\", \"STRING\"),\n",
    "    bigquery.SchemaField(\"postal_code\", \"STRING\"),\n",
    "    bigquery.SchemaField(\"country\", \"STRING\"),\n",
    "    bigquery.SchemaField(\"phone\", \"STRING\"),\n",
    "    bigquery.SchemaField(\"fax\", \"STRING\"),\n",
    "    bigquery.SchemaField(\"homepage\", \"STRING\"),\n",
    "]\n",
    "\n",
    "table = bigquery.Table(suppliers_table, schema=schema)\n",
    "table = client.create_table(table)\n",
    "print(\n",
    "    \"Created table {}.{}.{}\".format(table.project, table.dataset_id, table.table_id)\n",
    ") \n",
    "client.load_table_from_dataframe(suppliers, suppliers_table)"
   ]
  },
  {
   "cell_type": "markdown",
   "id": "f00d1a70",
   "metadata": {},
   "source": [
    "## Employees"
   ]
  },
  {
   "cell_type": "code",
   "execution_count": 7,
   "id": "71a324da",
   "metadata": {},
   "outputs": [],
   "source": [
    "employees_table = table_dataset+'.'+'employees'"
   ]
  },
  {
   "cell_type": "code",
   "execution_count": 8,
   "id": "fd6bda05",
   "metadata": {},
   "outputs": [
    {
     "data": {
      "text/html": [
       "<div>\n",
       "<style scoped>\n",
       "    .dataframe tbody tr th:only-of-type {\n",
       "        vertical-align: middle;\n",
       "    }\n",
       "\n",
       "    .dataframe tbody tr th {\n",
       "        vertical-align: top;\n",
       "    }\n",
       "\n",
       "    .dataframe thead th {\n",
       "        text-align: right;\n",
       "    }\n",
       "</style>\n",
       "<table border=\"1\" class=\"dataframe\">\n",
       "  <thead>\n",
       "    <tr style=\"text-align: right;\">\n",
       "      <th></th>\n",
       "      <th>employee_id</th>\n",
       "      <th>last_name</th>\n",
       "      <th>first_name</th>\n",
       "      <th>title</th>\n",
       "      <th>title_of_courtesy</th>\n",
       "      <th>birth_date</th>\n",
       "      <th>hire_date</th>\n",
       "      <th>address</th>\n",
       "      <th>city</th>\n",
       "      <th>region</th>\n",
       "      <th>postal_code</th>\n",
       "      <th>country</th>\n",
       "      <th>home_phone</th>\n",
       "      <th>extension</th>\n",
       "      <th>photo</th>\n",
       "      <th>notes</th>\n",
       "      <th>reports_to</th>\n",
       "      <th>photo_path</th>\n",
       "    </tr>\n",
       "  </thead>\n",
       "  <tbody>\n",
       "    <tr>\n",
       "      <th>0</th>\n",
       "      <td>1</td>\n",
       "      <td>Davolio</td>\n",
       "      <td>Nancy</td>\n",
       "      <td>Sales Representative</td>\n",
       "      <td>Ms.</td>\n",
       "      <td>1948-12-08</td>\n",
       "      <td>1992-05-01</td>\n",
       "      <td>507 - 20th Ave. E.\\nApt. 2A</td>\n",
       "      <td>Seattle</td>\n",
       "      <td>WA</td>\n",
       "      <td>98122</td>\n",
       "      <td>USA</td>\n",
       "      <td>(206) 555-9857</td>\n",
       "      <td>5467</td>\n",
       "      <td>\\x</td>\n",
       "      <td>Education includes a BA in psychology from Col...</td>\n",
       "      <td>2</td>\n",
       "      <td>http://accweb/emmployees/davolio.bmp</td>\n",
       "    </tr>\n",
       "  </tbody>\n",
       "</table>\n",
       "</div>"
      ],
      "text/plain": [
       "   employee_id last_name first_name                 title title_of_courtesy  \\\n",
       "0            1   Davolio      Nancy  Sales Representative               Ms.   \n",
       "\n",
       "  birth_date  hire_date                      address     city region  \\\n",
       "0 1948-12-08 1992-05-01  507 - 20th Ave. E.\\nApt. 2A  Seattle     WA   \n",
       "\n",
       "  postal_code country      home_phone  extension photo  \\\n",
       "0       98122     USA  (206) 555-9857       5467    \\x   \n",
       "\n",
       "                                               notes  reports_to  \\\n",
       "0  Education includes a BA in psychology from Col...           2   \n",
       "\n",
       "                             photo_path  \n",
       "0  http://accweb/emmployees/davolio.bmp  "
      ]
     },
     "execution_count": 8,
     "metadata": {},
     "output_type": "execute_result"
    }
   ],
   "source": [
    "employees[\"reports_to\"] = employees[\"reports_to\"].fillna(-1).astype(int)\n",
    "employees[\"employee_id\"] = employees[\"employee_id\"].astype(int)\n",
    "employees[\"extension\"] = employees[\"extension\"].astype(int)\n",
    "employees[\"postal_code\"] = employees[\"postal_code\"].astype(str)\n",
    "employees['birth_date'] = pd.to_datetime(employees['birth_date'], format='%Y-%m-%d')\n",
    "employees['hire_date'] = pd.to_datetime(employees['hire_date'], format='%Y-%m-%d')\n",
    "employees.head(1)"
   ]
  },
  {
   "cell_type": "code",
   "execution_count": 9,
   "id": "547634a9",
   "metadata": {},
   "outputs": [
    {
     "name": "stdout",
     "output_type": "stream",
     "text": [
      "Created table indicium-349201.Northwind.employees\n"
     ]
    }
   ],
   "source": [
    "schema = [\n",
    "    bigquery.SchemaField(\"employee_id\", \"INTEGER\", mode=\"REQUIRED\"),\n",
    "    bigquery.SchemaField(\"last_name\", \"STRING\"),\n",
    "    bigquery.SchemaField(\"first_name\", \"STRING\"),\n",
    "    bigquery.SchemaField(\"title\", \"STRING\"),\n",
    "    bigquery.SchemaField(\"title_of_courtesy\", \"STRING\"),\n",
    "    bigquery.SchemaField(\"birth_date\", \"DATE\"),\n",
    "    bigquery.SchemaField(\"hire_date\", \"DATE\"), \n",
    "    bigquery.SchemaField(\"address\", \"STRING\"),\n",
    "    bigquery.SchemaField(\"city\", \"STRING\"),\n",
    "    bigquery.SchemaField(\"region\", \"STRING\"),\n",
    "    bigquery.SchemaField(\"postal_code\", \"STRING\"),\n",
    "    bigquery.SchemaField(\"country\", \"STRING\"),\n",
    "    bigquery.SchemaField(\"home_phone\", \"STRING\"),\n",
    "    bigquery.SchemaField(\"extension\", \"INTEGER\"),\n",
    "    bigquery.SchemaField(\"photo\", \"STRING\"),\n",
    "    bigquery.SchemaField(\"notes\", \"STRING\"),\n",
    "    bigquery.SchemaField(\"reports_to\", \"INTEGER\"),\n",
    "    bigquery.SchemaField(\"photo_path\", \"STRING\"),\n",
    "]\n",
    "\n",
    "table = bigquery.Table(employees_table, schema=schema)\n",
    "table = client.create_table(table)\n",
    "print(\n",
    "    \"Created table {}.{}.{}\".format(table.project, table.dataset_id, table.table_id)\n",
    ") "
   ]
  },
  {
   "cell_type": "code",
   "execution_count": 10,
   "id": "1cbad424",
   "metadata": {},
   "outputs": [
    {
     "data": {
      "text/plain": [
       "LoadJob<project=indicium-349201, location=US, id=772dbc67-55f8-47be-a888-dac75c11a052>"
      ]
     },
     "execution_count": 10,
     "metadata": {},
     "output_type": "execute_result"
    }
   ],
   "source": [
    "client.load_table_from_dataframe(employees, employees_table)"
   ]
  },
  {
   "cell_type": "markdown",
   "id": "bfed15a6",
   "metadata": {},
   "source": [
    "## Customers"
   ]
  },
  {
   "cell_type": "code",
   "execution_count": 11,
   "id": "4c601c2f",
   "metadata": {},
   "outputs": [],
   "source": [
    "customers_table = table_dataset+'.'+'customers'"
   ]
  },
  {
   "cell_type": "code",
   "execution_count": 12,
   "id": "95590a3b",
   "metadata": {},
   "outputs": [
    {
     "data": {
      "text/html": [
       "<div>\n",
       "<style scoped>\n",
       "    .dataframe tbody tr th:only-of-type {\n",
       "        vertical-align: middle;\n",
       "    }\n",
       "\n",
       "    .dataframe tbody tr th {\n",
       "        vertical-align: top;\n",
       "    }\n",
       "\n",
       "    .dataframe thead th {\n",
       "        text-align: right;\n",
       "    }\n",
       "</style>\n",
       "<table border=\"1\" class=\"dataframe\">\n",
       "  <thead>\n",
       "    <tr style=\"text-align: right;\">\n",
       "      <th></th>\n",
       "      <th>customer_id</th>\n",
       "      <th>company_name</th>\n",
       "      <th>contact_name</th>\n",
       "      <th>contact_title</th>\n",
       "      <th>address</th>\n",
       "      <th>city</th>\n",
       "      <th>region</th>\n",
       "      <th>postal_code</th>\n",
       "      <th>country</th>\n",
       "      <th>phone</th>\n",
       "      <th>fax</th>\n",
       "    </tr>\n",
       "  </thead>\n",
       "  <tbody>\n",
       "    <tr>\n",
       "      <th>0</th>\n",
       "      <td>ALFKI</td>\n",
       "      <td>Alfreds Futterkiste</td>\n",
       "      <td>Maria Anders</td>\n",
       "      <td>Sales Representative</td>\n",
       "      <td>Obere Str. 57</td>\n",
       "      <td>Berlin</td>\n",
       "      <td>NaN</td>\n",
       "      <td>12209</td>\n",
       "      <td>Germany</td>\n",
       "      <td>030-0074321</td>\n",
       "      <td>030-0076545</td>\n",
       "    </tr>\n",
       "  </tbody>\n",
       "</table>\n",
       "</div>"
      ],
      "text/plain": [
       "  customer_id         company_name  contact_name         contact_title  \\\n",
       "0       ALFKI  Alfreds Futterkiste  Maria Anders  Sales Representative   \n",
       "\n",
       "         address    city region postal_code  country        phone          fax  \n",
       "0  Obere Str. 57  Berlin    NaN       12209  Germany  030-0074321  030-0076545  "
      ]
     },
     "execution_count": 12,
     "metadata": {},
     "output_type": "execute_result"
    }
   ],
   "source": [
    "customers.head(1)"
   ]
  },
  {
   "cell_type": "code",
   "execution_count": 13,
   "id": "a1a300c1",
   "metadata": {},
   "outputs": [
    {
     "name": "stdout",
     "output_type": "stream",
     "text": [
      "Created table indicium-349201.Northwind.customers\n"
     ]
    },
    {
     "data": {
      "text/plain": [
       "LoadJob<project=indicium-349201, location=US, id=c355125a-b4d5-446e-9e82-9e77b082c49e>"
      ]
     },
     "execution_count": 13,
     "metadata": {},
     "output_type": "execute_result"
    }
   ],
   "source": [
    "schema = [\n",
    "    bigquery.SchemaField(\"customer_id\", \"STRING\", mode=\"REQUIRED\"),\n",
    "    bigquery.SchemaField(\"company_name\", \"STRING\"),\n",
    "    bigquery.SchemaField(\"contact_name\", \"STRING\"),\n",
    "    bigquery.SchemaField(\"contact_title\", \"STRING\"),\n",
    "    bigquery.SchemaField(\"address\", \"STRING\"),\n",
    "    bigquery.SchemaField(\"city\", \"STRING\"),\n",
    "    bigquery.SchemaField(\"region\", \"STRING\"),\n",
    "    bigquery.SchemaField(\"postal_code\", \"STRING\"),\n",
    "    bigquery.SchemaField(\"country\", \"STRING\"),\n",
    "    bigquery.SchemaField(\"phone\", \"STRING\"),\n",
    "    bigquery.SchemaField(\"fax\", \"STRING\"),\n",
    "]\n",
    "\n",
    "table = bigquery.Table(customers_table, schema=schema)\n",
    "table = client.create_table(table)\n",
    "print(\n",
    "    \"Created table {}.{}.{}\".format(table.project, table.dataset_id, table.table_id)\n",
    ") \n",
    "client.load_table_from_dataframe(customers, customers_table)"
   ]
  },
  {
   "cell_type": "markdown",
   "id": "3ae7028b",
   "metadata": {},
   "source": [
    "## Products"
   ]
  },
  {
   "cell_type": "code",
   "execution_count": 14,
   "id": "fd6bda05",
   "metadata": {},
   "outputs": [],
   "source": [
    "products_table = table_dataset+'.'+'products'"
   ]
  },
  {
   "cell_type": "code",
   "execution_count": 15,
   "id": "7611f265",
   "metadata": {},
   "outputs": [
    {
     "data": {
      "text/html": [
       "<div>\n",
       "<style scoped>\n",
       "    .dataframe tbody tr th:only-of-type {\n",
       "        vertical-align: middle;\n",
       "    }\n",
       "\n",
       "    .dataframe tbody tr th {\n",
       "        vertical-align: top;\n",
       "    }\n",
       "\n",
       "    .dataframe thead th {\n",
       "        text-align: right;\n",
       "    }\n",
       "</style>\n",
       "<table border=\"1\" class=\"dataframe\">\n",
       "  <thead>\n",
       "    <tr style=\"text-align: right;\">\n",
       "      <th></th>\n",
       "      <th>product_id</th>\n",
       "      <th>product_name</th>\n",
       "      <th>supplier_id</th>\n",
       "      <th>category_id</th>\n",
       "      <th>quantity_per_unit</th>\n",
       "      <th>unit_price</th>\n",
       "      <th>units_in_stock</th>\n",
       "      <th>units_on_order</th>\n",
       "      <th>reorder_level</th>\n",
       "      <th>discontinued</th>\n",
       "    </tr>\n",
       "  </thead>\n",
       "  <tbody>\n",
       "    <tr>\n",
       "      <th>0</th>\n",
       "      <td>1</td>\n",
       "      <td>Chai</td>\n",
       "      <td>8</td>\n",
       "      <td>1</td>\n",
       "      <td>10 boxes x 30 bags</td>\n",
       "      <td>18.0</td>\n",
       "      <td>39</td>\n",
       "      <td>0</td>\n",
       "      <td>10</td>\n",
       "      <td>1</td>\n",
       "    </tr>\n",
       "  </tbody>\n",
       "</table>\n",
       "</div>"
      ],
      "text/plain": [
       "   product_id product_name  supplier_id  category_id   quantity_per_unit  \\\n",
       "0           1         Chai            8            1  10 boxes x 30 bags   \n",
       "\n",
       "   unit_price  units_in_stock  units_on_order  reorder_level  discontinued  \n",
       "0        18.0              39               0             10             1  "
      ]
     },
     "execution_count": 15,
     "metadata": {},
     "output_type": "execute_result"
    }
   ],
   "source": [
    "products.head(1)"
   ]
  },
  {
   "cell_type": "markdown",
   "id": "ea01212b",
   "metadata": {},
   "source": [
    "## "
   ]
  },
  {
   "cell_type": "code",
   "execution_count": 16,
   "id": "9100a2ed",
   "metadata": {},
   "outputs": [
    {
     "name": "stdout",
     "output_type": "stream",
     "text": [
      "Created table indicium-349201.Northwind.products\n"
     ]
    },
    {
     "data": {
      "text/plain": [
       "LoadJob<project=indicium-349201, location=US, id=e178b906-6035-4193-85d1-a1954e07fc86>"
      ]
     },
     "execution_count": 16,
     "metadata": {},
     "output_type": "execute_result"
    }
   ],
   "source": [
    "schema = [\n",
    "    bigquery.SchemaField(\"product_id\", \"INTEGER\", mode=\"REQUIRED\"),\n",
    "    bigquery.SchemaField(\"product_name\", \"STRING\"),\n",
    "    bigquery.SchemaField(\"supplier_id\", \"INTEGER\", mode=\"REQUIRED\"),\n",
    "    bigquery.SchemaField(\"category_id\", \"INTEGER\", mode=\"REQUIRED\"),\n",
    "    bigquery.SchemaField(\"quantity_per_unit\", \"STRING\"),\n",
    "    bigquery.SchemaField(\"unit_price\", \"FLOAT\"),\n",
    "    bigquery.SchemaField(\"units_in_stock\", \"INTEGER\"),\n",
    "    bigquery.SchemaField(\"units_on_order\", \"INTEGER\"),\n",
    "    bigquery.SchemaField(\"reorder_level\", \"INTEGER\"),\n",
    "    bigquery.SchemaField(\"discontinued\", \"INTEGER\"),\n",
    "]\n",
    "\n",
    "table = bigquery.Table(products_table, schema=schema)\n",
    "table = client.create_table(table)\n",
    "print(\n",
    "    \"Created table {}.{}.{}\".format(table.project, table.dataset_id, table.table_id)\n",
    ") \n",
    "client.load_table_from_dataframe(products, products_table)"
   ]
  },
  {
   "cell_type": "markdown",
   "id": "19e8f078",
   "metadata": {},
   "source": [
    "## Shippers"
   ]
  },
  {
   "cell_type": "code",
   "execution_count": 17,
   "id": "73ab357f",
   "metadata": {},
   "outputs": [],
   "source": [
    "shippers_table = table_dataset+'.'+'shippers'"
   ]
  },
  {
   "cell_type": "code",
   "execution_count": 18,
   "id": "6b16eea0",
   "metadata": {},
   "outputs": [
    {
     "data": {
      "text/html": [
       "<div>\n",
       "<style scoped>\n",
       "    .dataframe tbody tr th:only-of-type {\n",
       "        vertical-align: middle;\n",
       "    }\n",
       "\n",
       "    .dataframe tbody tr th {\n",
       "        vertical-align: top;\n",
       "    }\n",
       "\n",
       "    .dataframe thead th {\n",
       "        text-align: right;\n",
       "    }\n",
       "</style>\n",
       "<table border=\"1\" class=\"dataframe\">\n",
       "  <thead>\n",
       "    <tr style=\"text-align: right;\">\n",
       "      <th></th>\n",
       "      <th>shipper_id</th>\n",
       "      <th>company_name</th>\n",
       "      <th>phone</th>\n",
       "    </tr>\n",
       "  </thead>\n",
       "  <tbody>\n",
       "    <tr>\n",
       "      <th>0</th>\n",
       "      <td>1</td>\n",
       "      <td>Speedy Express</td>\n",
       "      <td>(503) 555-9831</td>\n",
       "    </tr>\n",
       "  </tbody>\n",
       "</table>\n",
       "</div>"
      ],
      "text/plain": [
       "   shipper_id    company_name           phone\n",
       "0           1  Speedy Express  (503) 555-9831"
      ]
     },
     "execution_count": 18,
     "metadata": {},
     "output_type": "execute_result"
    }
   ],
   "source": [
    "shippers.head(1)"
   ]
  },
  {
   "cell_type": "code",
   "execution_count": 19,
   "id": "d90839fb",
   "metadata": {},
   "outputs": [
    {
     "name": "stdout",
     "output_type": "stream",
     "text": [
      "Created table indicium-349201.Northwind.shippers\n"
     ]
    },
    {
     "data": {
      "text/plain": [
       "LoadJob<project=indicium-349201, location=US, id=dfd40767-48c9-4eba-b64c-d0f225824fd3>"
      ]
     },
     "execution_count": 19,
     "metadata": {},
     "output_type": "execute_result"
    }
   ],
   "source": [
    "schema = [\n",
    "    bigquery.SchemaField(\"shipper_id\", \"INTEGER\", mode=\"REQUIRED\"),\n",
    "    bigquery.SchemaField(\"company_name\", \"STRING\"),\n",
    "    bigquery.SchemaField(\"phone\", \"STRING\"),\n",
    "]\n",
    "\n",
    "table = bigquery.Table(shippers_table, schema=schema)\n",
    "table = client.create_table(table)\n",
    "print(\n",
    "    \"Created table {}.{}.{}\".format(table.project, table.dataset_id, table.table_id)\n",
    ") \n",
    "client.load_table_from_dataframe(shippers, shippers_table)"
   ]
  },
  {
   "cell_type": "markdown",
   "id": "07ccdd71",
   "metadata": {},
   "source": [
    "## Categories"
   ]
  },
  {
   "cell_type": "code",
   "execution_count": 20,
   "id": "fdb72bdf",
   "metadata": {},
   "outputs": [],
   "source": [
    "categories_table = table_dataset+'.'+'categories'"
   ]
  },
  {
   "cell_type": "code",
   "execution_count": 21,
   "id": "01305417",
   "metadata": {},
   "outputs": [
    {
     "data": {
      "text/html": [
       "<div>\n",
       "<style scoped>\n",
       "    .dataframe tbody tr th:only-of-type {\n",
       "        vertical-align: middle;\n",
       "    }\n",
       "\n",
       "    .dataframe tbody tr th {\n",
       "        vertical-align: top;\n",
       "    }\n",
       "\n",
       "    .dataframe thead th {\n",
       "        text-align: right;\n",
       "    }\n",
       "</style>\n",
       "<table border=\"1\" class=\"dataframe\">\n",
       "  <thead>\n",
       "    <tr style=\"text-align: right;\">\n",
       "      <th></th>\n",
       "      <th>category_id</th>\n",
       "      <th>category_name</th>\n",
       "      <th>description</th>\n",
       "      <th>picture</th>\n",
       "    </tr>\n",
       "  </thead>\n",
       "  <tbody>\n",
       "    <tr>\n",
       "      <th>0</th>\n",
       "      <td>1</td>\n",
       "      <td>Beverages</td>\n",
       "      <td>Soft drinks, coffees, teas, beers, and ales</td>\n",
       "      <td>\\x</td>\n",
       "    </tr>\n",
       "  </tbody>\n",
       "</table>\n",
       "</div>"
      ],
      "text/plain": [
       "   category_id category_name                                  description  \\\n",
       "0            1     Beverages  Soft drinks, coffees, teas, beers, and ales   \n",
       "\n",
       "  picture  \n",
       "0      \\x  "
      ]
     },
     "execution_count": 21,
     "metadata": {},
     "output_type": "execute_result"
    }
   ],
   "source": [
    "categories.head(1)"
   ]
  },
  {
   "cell_type": "code",
   "execution_count": 22,
   "id": "3aacd6d7",
   "metadata": {},
   "outputs": [
    {
     "name": "stdout",
     "output_type": "stream",
     "text": [
      "Created table indicium-349201.Northwind.categories\n"
     ]
    },
    {
     "data": {
      "text/plain": [
       "LoadJob<project=indicium-349201, location=US, id=bc3aa701-186b-4b2f-bcfa-0c82400d4d87>"
      ]
     },
     "execution_count": 22,
     "metadata": {},
     "output_type": "execute_result"
    }
   ],
   "source": [
    "schema = [\n",
    "    bigquery.SchemaField(\"category_id\", \"INTEGER\", mode=\"REQUIRED\"),\n",
    "    bigquery.SchemaField(\"category_name\", \"STRING\"),\n",
    "    bigquery.SchemaField(\"description\", \"STRING\"),\n",
    "    bigquery.SchemaField(\"picture\", \"STRING\"),\n",
    "]\n",
    "\n",
    "table = bigquery.Table(categories_table, schema=schema)\n",
    "table = client.create_table(table)\n",
    "print(\n",
    "    \"Created table {}.{}.{}\".format(table.project, table.dataset_id, table.table_id)\n",
    ") \n",
    "client.load_table_from_dataframe(categories, categories_table)"
   ]
  },
  {
   "cell_type": "markdown",
   "id": "edeac4cd",
   "metadata": {},
   "source": [
    "## US States"
   ]
  },
  {
   "cell_type": "code",
   "execution_count": 23,
   "id": "f2d9a740",
   "metadata": {},
   "outputs": [],
   "source": [
    "us_states_table = table_dataset+'.'+'us_states'"
   ]
  },
  {
   "cell_type": "code",
   "execution_count": 24,
   "id": "c0c4560b",
   "metadata": {},
   "outputs": [
    {
     "data": {
      "text/html": [
       "<div>\n",
       "<style scoped>\n",
       "    .dataframe tbody tr th:only-of-type {\n",
       "        vertical-align: middle;\n",
       "    }\n",
       "\n",
       "    .dataframe tbody tr th {\n",
       "        vertical-align: top;\n",
       "    }\n",
       "\n",
       "    .dataframe thead th {\n",
       "        text-align: right;\n",
       "    }\n",
       "</style>\n",
       "<table border=\"1\" class=\"dataframe\">\n",
       "  <thead>\n",
       "    <tr style=\"text-align: right;\">\n",
       "      <th></th>\n",
       "      <th>state_id</th>\n",
       "      <th>state_name</th>\n",
       "      <th>state_abbr</th>\n",
       "      <th>state_region</th>\n",
       "    </tr>\n",
       "  </thead>\n",
       "  <tbody>\n",
       "    <tr>\n",
       "      <th>0</th>\n",
       "      <td>1</td>\n",
       "      <td>Alabama</td>\n",
       "      <td>AL</td>\n",
       "      <td>south</td>\n",
       "    </tr>\n",
       "  </tbody>\n",
       "</table>\n",
       "</div>"
      ],
      "text/plain": [
       "   state_id state_name state_abbr state_region\n",
       "0         1    Alabama         AL        south"
      ]
     },
     "execution_count": 24,
     "metadata": {},
     "output_type": "execute_result"
    }
   ],
   "source": [
    "us_states.head(1)"
   ]
  },
  {
   "cell_type": "code",
   "execution_count": 25,
   "id": "84233818",
   "metadata": {},
   "outputs": [
    {
     "name": "stdout",
     "output_type": "stream",
     "text": [
      "Created table indicium-349201.Northwind.us_states\n"
     ]
    },
    {
     "data": {
      "text/plain": [
       "LoadJob<project=indicium-349201, location=US, id=dc304df4-3d37-4a5c-a2af-dc3249dda0af>"
      ]
     },
     "execution_count": 25,
     "metadata": {},
     "output_type": "execute_result"
    }
   ],
   "source": [
    "schema = [\n",
    "    bigquery.SchemaField(\"state_id\", \"INTEGER\", mode=\"REQUIRED\"),\n",
    "    bigquery.SchemaField(\"state_name\", \"STRING\"),\n",
    "    bigquery.SchemaField(\"state_abbr\", \"STRING\"),\n",
    "    bigquery.SchemaField(\"state_region\", \"STRING\"),\n",
    "]\n",
    "\n",
    "table = bigquery.Table(us_states_table, schema=schema)\n",
    "table = client.create_table(table)\n",
    "print(\n",
    "    \"Created table {}.{}.{}\".format(table.project, table.dataset_id, table.table_id)\n",
    ") \n",
    "client.load_table_from_dataframe(us_states, us_states_table)"
   ]
  },
  {
   "cell_type": "markdown",
   "id": "0b0c5988",
   "metadata": {},
   "source": [
    "## Region"
   ]
  },
  {
   "cell_type": "code",
   "execution_count": 26,
   "id": "940f8176",
   "metadata": {},
   "outputs": [],
   "source": [
    "region_table = table_dataset+'.'+'region'"
   ]
  },
  {
   "cell_type": "code",
   "execution_count": 27,
   "id": "aefac294",
   "metadata": {},
   "outputs": [
    {
     "data": {
      "text/html": [
       "<div>\n",
       "<style scoped>\n",
       "    .dataframe tbody tr th:only-of-type {\n",
       "        vertical-align: middle;\n",
       "    }\n",
       "\n",
       "    .dataframe tbody tr th {\n",
       "        vertical-align: top;\n",
       "    }\n",
       "\n",
       "    .dataframe thead th {\n",
       "        text-align: right;\n",
       "    }\n",
       "</style>\n",
       "<table border=\"1\" class=\"dataframe\">\n",
       "  <thead>\n",
       "    <tr style=\"text-align: right;\">\n",
       "      <th></th>\n",
       "      <th>region_id</th>\n",
       "      <th>region_description</th>\n",
       "    </tr>\n",
       "  </thead>\n",
       "  <tbody>\n",
       "    <tr>\n",
       "      <th>0</th>\n",
       "      <td>1</td>\n",
       "      <td>Eastern</td>\n",
       "    </tr>\n",
       "  </tbody>\n",
       "</table>\n",
       "</div>"
      ],
      "text/plain": [
       "   region_id region_description\n",
       "0          1            Eastern"
      ]
     },
     "execution_count": 27,
     "metadata": {},
     "output_type": "execute_result"
    }
   ],
   "source": [
    "region.head(1)"
   ]
  },
  {
   "cell_type": "code",
   "execution_count": 28,
   "id": "20437d04",
   "metadata": {},
   "outputs": [
    {
     "name": "stdout",
     "output_type": "stream",
     "text": [
      "Created table indicium-349201.Northwind.region\n"
     ]
    },
    {
     "data": {
      "text/plain": [
       "LoadJob<project=indicium-349201, location=US, id=1687794d-73d3-4079-8f26-038d86bfe373>"
      ]
     },
     "execution_count": 28,
     "metadata": {},
     "output_type": "execute_result"
    }
   ],
   "source": [
    "schema = [\n",
    "    bigquery.SchemaField(\"region_id\", \"INTEGER\", mode=\"REQUIRED\"),\n",
    "    bigquery.SchemaField(\"region_description\", \"STRING\"),\n",
    "]\n",
    "\n",
    "table = bigquery.Table(region_table, schema=schema)\n",
    "table = client.create_table(table)\n",
    "print(\n",
    "    \"Created table {}.{}.{}\".format(table.project, table.dataset_id, table.table_id)\n",
    ") \n",
    "client.load_table_from_dataframe(region, region_table)"
   ]
  },
  {
   "cell_type": "markdown",
   "id": "d6186c4b",
   "metadata": {},
   "source": [
    "## Territories"
   ]
  },
  {
   "cell_type": "code",
   "execution_count": 29,
   "id": "c2044953",
   "metadata": {},
   "outputs": [],
   "source": [
    "territories_table = table_dataset+'.'+'territories'"
   ]
  },
  {
   "cell_type": "code",
   "execution_count": 30,
   "id": "c25caaa2",
   "metadata": {},
   "outputs": [
    {
     "data": {
      "text/html": [
       "<div>\n",
       "<style scoped>\n",
       "    .dataframe tbody tr th:only-of-type {\n",
       "        vertical-align: middle;\n",
       "    }\n",
       "\n",
       "    .dataframe tbody tr th {\n",
       "        vertical-align: top;\n",
       "    }\n",
       "\n",
       "    .dataframe thead th {\n",
       "        text-align: right;\n",
       "    }\n",
       "</style>\n",
       "<table border=\"1\" class=\"dataframe\">\n",
       "  <thead>\n",
       "    <tr style=\"text-align: right;\">\n",
       "      <th></th>\n",
       "      <th>territory_id</th>\n",
       "      <th>territory_description</th>\n",
       "      <th>region_id</th>\n",
       "    </tr>\n",
       "  </thead>\n",
       "  <tbody>\n",
       "    <tr>\n",
       "      <th>0</th>\n",
       "      <td>1581</td>\n",
       "      <td>Westboro</td>\n",
       "      <td>1</td>\n",
       "    </tr>\n",
       "  </tbody>\n",
       "</table>\n",
       "</div>"
      ],
      "text/plain": [
       "   territory_id territory_description  region_id\n",
       "0          1581              Westboro          1"
      ]
     },
     "execution_count": 30,
     "metadata": {},
     "output_type": "execute_result"
    }
   ],
   "source": [
    "territories.head(1)"
   ]
  },
  {
   "cell_type": "code",
   "execution_count": 31,
   "id": "24fa8858",
   "metadata": {},
   "outputs": [
    {
     "name": "stdout",
     "output_type": "stream",
     "text": [
      "Created table indicium-349201.Northwind.territories\n"
     ]
    },
    {
     "data": {
      "text/plain": [
       "LoadJob<project=indicium-349201, location=US, id=fc1bafbb-81dc-46f8-b457-ede46d3b2c34>"
      ]
     },
     "execution_count": 31,
     "metadata": {},
     "output_type": "execute_result"
    }
   ],
   "source": [
    "schema = [\n",
    "    bigquery.SchemaField(\"territory_id\", \"INTEGER\", mode=\"REQUIRED\"),\n",
    "    bigquery.SchemaField(\"territory_description\", \"STRING\"),\n",
    "    bigquery.SchemaField(\"region_id\", \"INTEGER\", mode=\"REQUIRED\"),\n",
    "]\n",
    "\n",
    "table = bigquery.Table(territories_table, schema=schema)\n",
    "table = client.create_table(table)\n",
    "print(\n",
    "    \"Created table {}.{}.{}\".format(table.project, table.dataset_id, table.table_id)\n",
    ") \n",
    "client.load_table_from_dataframe(territories, territories_table)"
   ]
  },
  {
   "cell_type": "markdown",
   "id": "996d8fc3",
   "metadata": {},
   "source": [
    "## Employee Territories"
   ]
  },
  {
   "cell_type": "code",
   "execution_count": 32,
   "id": "9cd0b9fa",
   "metadata": {},
   "outputs": [],
   "source": [
    "employee_territories_table = table_dataset+'.'+'employee_territories'"
   ]
  },
  {
   "cell_type": "code",
   "execution_count": 33,
   "id": "919eee63",
   "metadata": {},
   "outputs": [
    {
     "data": {
      "text/html": [
       "<div>\n",
       "<style scoped>\n",
       "    .dataframe tbody tr th:only-of-type {\n",
       "        vertical-align: middle;\n",
       "    }\n",
       "\n",
       "    .dataframe tbody tr th {\n",
       "        vertical-align: top;\n",
       "    }\n",
       "\n",
       "    .dataframe thead th {\n",
       "        text-align: right;\n",
       "    }\n",
       "</style>\n",
       "<table border=\"1\" class=\"dataframe\">\n",
       "  <thead>\n",
       "    <tr style=\"text-align: right;\">\n",
       "      <th></th>\n",
       "      <th>employee_id</th>\n",
       "      <th>territory_id</th>\n",
       "    </tr>\n",
       "  </thead>\n",
       "  <tbody>\n",
       "    <tr>\n",
       "      <th>0</th>\n",
       "      <td>1</td>\n",
       "      <td>6897</td>\n",
       "    </tr>\n",
       "  </tbody>\n",
       "</table>\n",
       "</div>"
      ],
      "text/plain": [
       "   employee_id  territory_id\n",
       "0            1          6897"
      ]
     },
     "execution_count": 33,
     "metadata": {},
     "output_type": "execute_result"
    }
   ],
   "source": [
    "employee_territories.head(1)"
   ]
  },
  {
   "cell_type": "code",
   "execution_count": 34,
   "id": "6d75422b",
   "metadata": {},
   "outputs": [
    {
     "name": "stdout",
     "output_type": "stream",
     "text": [
      "Created table indicium-349201.Northwind.employee_territories\n"
     ]
    },
    {
     "data": {
      "text/plain": [
       "LoadJob<project=indicium-349201, location=US, id=cd3d3174-abec-4cd3-b2c2-47b631232acd>"
      ]
     },
     "execution_count": 34,
     "metadata": {},
     "output_type": "execute_result"
    }
   ],
   "source": [
    "schema = [\n",
    "    bigquery.SchemaField(\"employee_id\", \"INTEGER\", mode=\"REQUIRED\"),\n",
    "    bigquery.SchemaField(\"territory_id\", \"INTEGER\", mode=\"REQUIRED\"),\n",
    "]\n",
    "\n",
    "table = bigquery.Table(employee_territories_table, schema=schema)\n",
    "table = client.create_table(table)\n",
    "print(\n",
    "    \"Created table {}.{}.{}\".format(table.project, table.dataset_id, table.table_id)\n",
    ") \n",
    "client.load_table_from_dataframe(employee_territories, employee_territories_table)"
   ]
  },
  {
   "cell_type": "markdown",
   "id": "c1cf382c",
   "metadata": {},
   "source": [
    "## Orders"
   ]
  },
  {
   "cell_type": "code",
   "execution_count": 35,
   "id": "9adeaa33",
   "metadata": {},
   "outputs": [],
   "source": [
    "orders_table = table_dataset+'.'+'orders'"
   ]
  },
  {
   "cell_type": "code",
   "execution_count": 36,
   "id": "36f148ac",
   "metadata": {},
   "outputs": [
    {
     "data": {
      "text/html": [
       "<div>\n",
       "<style scoped>\n",
       "    .dataframe tbody tr th:only-of-type {\n",
       "        vertical-align: middle;\n",
       "    }\n",
       "\n",
       "    .dataframe tbody tr th {\n",
       "        vertical-align: top;\n",
       "    }\n",
       "\n",
       "    .dataframe thead th {\n",
       "        text-align: right;\n",
       "    }\n",
       "</style>\n",
       "<table border=\"1\" class=\"dataframe\">\n",
       "  <thead>\n",
       "    <tr style=\"text-align: right;\">\n",
       "      <th></th>\n",
       "      <th>order_id</th>\n",
       "      <th>customer_id</th>\n",
       "      <th>employee_id</th>\n",
       "      <th>order_date</th>\n",
       "      <th>required_date</th>\n",
       "      <th>shipped_date</th>\n",
       "      <th>ship_via</th>\n",
       "      <th>freight</th>\n",
       "      <th>ship_name</th>\n",
       "      <th>ship_address</th>\n",
       "      <th>ship_city</th>\n",
       "      <th>ship_region</th>\n",
       "      <th>ship_postal_code</th>\n",
       "      <th>ship_country</th>\n",
       "    </tr>\n",
       "  </thead>\n",
       "  <tbody>\n",
       "    <tr>\n",
       "      <th>0</th>\n",
       "      <td>10248</td>\n",
       "      <td>VINET</td>\n",
       "      <td>5</td>\n",
       "      <td>1996-07-04</td>\n",
       "      <td>1996-08-01</td>\n",
       "      <td>1996-07-16</td>\n",
       "      <td>3</td>\n",
       "      <td>32.38</td>\n",
       "      <td>Vins et alcools Chevalier</td>\n",
       "      <td>59 rue de l'Abbaye</td>\n",
       "      <td>Reims</td>\n",
       "      <td>NaN</td>\n",
       "      <td>51100</td>\n",
       "      <td>France</td>\n",
       "    </tr>\n",
       "  </tbody>\n",
       "</table>\n",
       "</div>"
      ],
      "text/plain": [
       "   order_id customer_id  employee_id order_date required_date shipped_date  \\\n",
       "0     10248       VINET            5 1996-07-04    1996-08-01   1996-07-16   \n",
       "\n",
       "   ship_via  freight                  ship_name        ship_address ship_city  \\\n",
       "0         3    32.38  Vins et alcools Chevalier  59 rue de l'Abbaye     Reims   \n",
       "\n",
       "  ship_region ship_postal_code ship_country  \n",
       "0         NaN            51100       France  "
      ]
     },
     "execution_count": 36,
     "metadata": {},
     "output_type": "execute_result"
    }
   ],
   "source": [
    "orders['order_date'] = pd.to_datetime(orders['order_date'], format='%Y-%m-%d')\n",
    "orders['required_date'] = pd.to_datetime(orders['required_date'], format='%Y-%m-%d')\n",
    "orders['shipped_date'] = pd.to_datetime(orders['shipped_date'], format='%Y-%m-%d')\n",
    "orders.head(1)"
   ]
  },
  {
   "cell_type": "code",
   "execution_count": 37,
   "id": "78150180",
   "metadata": {},
   "outputs": [
    {
     "name": "stdout",
     "output_type": "stream",
     "text": [
      "Created table indicium-349201.Northwind.orders\n"
     ]
    },
    {
     "data": {
      "text/plain": [
       "LoadJob<project=indicium-349201, location=US, id=a5eb3ae6-d733-423a-a7f0-7e4220bff0f9>"
      ]
     },
     "execution_count": 37,
     "metadata": {},
     "output_type": "execute_result"
    }
   ],
   "source": [
    "schema = [\n",
    "    bigquery.SchemaField(\"order_id\", \"INTEGER\", mode=\"REQUIRED\"),\n",
    "    bigquery.SchemaField(\"customer_id\", \"STRING\", mode=\"REQUIRED\"),\n",
    "    bigquery.SchemaField(\"employee_id\", \"INTEGER\", mode=\"REQUIRED\"),\n",
    "    bigquery.SchemaField(\"order_date\", \"DATE\"),\n",
    "    bigquery.SchemaField(\"required_date\", \"DATE\"),\n",
    "    bigquery.SchemaField(\"shipped_date\", \"DATE\"),\n",
    "    bigquery.SchemaField(\"ship_via\", \"INTEGER\"),\n",
    "    bigquery.SchemaField(\"freight\", \"FLOAT\"),\n",
    "    bigquery.SchemaField(\"ship_name\", \"STRING\"),\n",
    "    bigquery.SchemaField(\"ship_address\", \"STRING\"),\n",
    "    bigquery.SchemaField(\"ship_city\", \"STRING\"),\n",
    "    bigquery.SchemaField(\"ship_region\", \"STRING\"),\n",
    "    bigquery.SchemaField(\"ship_postal_code\", \"STRING\"),\n",
    "    bigquery.SchemaField(\"ship_country\", \"STRING\"),\n",
    "]\n",
    "\n",
    "table = bigquery.Table(orders_table, schema=schema)\n",
    "table = client.create_table(table)\n",
    "print(\n",
    "    \"Created table {}.{}.{}\".format(table.project, table.dataset_id, table.table_id)\n",
    ") \n",
    "client.load_table_from_dataframe(orders, orders_table)"
   ]
  },
  {
   "cell_type": "markdown",
   "id": "7dbcdd9c",
   "metadata": {},
   "source": [
    "## Order Details"
   ]
  },
  {
   "cell_type": "code",
   "execution_count": 38,
   "id": "14bcf66b",
   "metadata": {},
   "outputs": [],
   "source": [
    "order_details_table = table_dataset+'.'+'order_details'"
   ]
  },
  {
   "cell_type": "code",
   "execution_count": 39,
   "id": "3483ae0f",
   "metadata": {},
   "outputs": [
    {
     "data": {
      "text/html": [
       "<div>\n",
       "<style scoped>\n",
       "    .dataframe tbody tr th:only-of-type {\n",
       "        vertical-align: middle;\n",
       "    }\n",
       "\n",
       "    .dataframe tbody tr th {\n",
       "        vertical-align: top;\n",
       "    }\n",
       "\n",
       "    .dataframe thead th {\n",
       "        text-align: right;\n",
       "    }\n",
       "</style>\n",
       "<table border=\"1\" class=\"dataframe\">\n",
       "  <thead>\n",
       "    <tr style=\"text-align: right;\">\n",
       "      <th></th>\n",
       "      <th>order_id</th>\n",
       "      <th>product_id</th>\n",
       "      <th>unit_price</th>\n",
       "      <th>quantity</th>\n",
       "      <th>discount</th>\n",
       "    </tr>\n",
       "  </thead>\n",
       "  <tbody>\n",
       "    <tr>\n",
       "      <th>0</th>\n",
       "      <td>10248</td>\n",
       "      <td>11</td>\n",
       "      <td>14.0</td>\n",
       "      <td>12</td>\n",
       "      <td>0.0</td>\n",
       "    </tr>\n",
       "  </tbody>\n",
       "</table>\n",
       "</div>"
      ],
      "text/plain": [
       "   order_id  product_id  unit_price  quantity  discount\n",
       "0     10248          11        14.0        12       0.0"
      ]
     },
     "execution_count": 39,
     "metadata": {},
     "output_type": "execute_result"
    }
   ],
   "source": [
    "order_details.head(1)"
   ]
  },
  {
   "cell_type": "code",
   "execution_count": 40,
   "id": "ad21cb3c",
   "metadata": {},
   "outputs": [
    {
     "name": "stdout",
     "output_type": "stream",
     "text": [
      "Created table indicium-349201.Northwind.order_details\n"
     ]
    },
    {
     "data": {
      "text/plain": [
       "LoadJob<project=indicium-349201, location=US, id=f73741fb-2597-4ea5-af16-d74086a6099c>"
      ]
     },
     "execution_count": 40,
     "metadata": {},
     "output_type": "execute_result"
    }
   ],
   "source": [
    "schema = [\n",
    "    bigquery.SchemaField(\"order_id\", \"INTEGER\", mode=\"REQUIRED\"),\n",
    "    bigquery.SchemaField(\"product_id\", \"INTEGER\", mode=\"REQUIRED\"),\n",
    "    bigquery.SchemaField(\"unit_price\", \"FLOAT\"),\n",
    "    bigquery.SchemaField(\"quantity\", \"INTEGER\"),\n",
    "    bigquery.SchemaField(\"discount\", \"FLOAT\"),\n",
    "]\n",
    "\n",
    "table = bigquery.Table(order_details_table, schema=schema)\n",
    "table = client.create_table(table)\n",
    "print(\n",
    "    \"Created table {}.{}.{}\".format(table.project, table.dataset_id, table.table_id)\n",
    ") \n",
    "client.load_table_from_dataframe(order_details, order_details_table)"
   ]
  }
 ],
 "metadata": {
  "interpreter": {
   "hash": "e049b45738c4749feec37a8215276347ba84459169ad7790684fdcca7413c3f2"
  },
  "kernelspec": {
   "display_name": "Python 3.8.8 64-bit ('base': conda)",
   "name": "python3"
  },
  "language_info": {
   "codemirror_mode": {
    "name": "ipython",
    "version": 3
   },
   "file_extension": ".py",
   "mimetype": "text/x-python",
   "name": "python",
   "nbconvert_exporter": "python",
   "pygments_lexer": "ipython3",
   "version": "3.8.8"
  }
 },
 "nbformat": 4,
 "nbformat_minor": 5
}
